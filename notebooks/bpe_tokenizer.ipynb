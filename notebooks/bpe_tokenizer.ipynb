{
 "cells": [
  {
   "cell_type": "code",
   "execution_count": 1,
   "metadata": {},
   "outputs": [],
   "source": [
    "import os\n",
    "from tqdm import tqdm\n",
    "from multiprocessing import Pool\n",
    "from collections import defaultdict"
   ]
  },
  {
   "cell_type": "code",
   "execution_count": 2,
   "metadata": {},
   "outputs": [
    {
     "name": "stdout",
     "output_type": "stream",
     "text": [
      "Size of data:50398417\n",
      "Data:The wet marble floor pressed on his cheek like a thousand hands slapping his face frozen in time . S\n"
     ]
    }
   ],
   "source": [
    "# Read the data\n",
    "with open('test.wp_target', 'r') as file:\n",
    "    data = file.read()\n",
    "\n",
    "print(f\"Size of data:{len(data)}\")\n",
    "print(f\"Data:{data[:100]}\")"
   ]
  },
  {
   "cell_type": "code",
   "execution_count": 3,
   "metadata": {},
   "outputs": [
    {
     "name": "stdout",
     "output_type": "stream",
     "text": [
      "size of data_list:15139\n"
     ]
    }
   ],
   "source": [
    "data_list = data.split(\"\\n\")\n",
    "print(f\"size of data_list:{len(data_list)}\")"
   ]
  },
  {
   "cell_type": "code",
   "execution_count": 4,
   "metadata": {},
   "outputs": [
    {
     "name": "stdout",
     "output_type": "stream",
     "text": [
      "</BOT>The wet marble floor pressed on his cheek like a thousand hands slapping his face frozen in time . Smattering piss of rain ignored his indignant mumblings . His eyes fluttered . Pins and needs ran from finger to shoulder as he pushed back against the floor , contorting his aching body into a cross legged position . Last night was bad . He gathered that . His routine dullness of though crept inwards from the edges of his mind toward the black mist that veiled his most recent memories . He struggled to recall whatever he could n't recall but only for a moment before he decided it probably was n't worth the effort . \n",
      " He glanced around the room for a few minutes before concluding that he probably did n't know where he was . His investigation was n't entirely fruitless , he discovered a mostly full bottle of vodka . It was cheap but would definitely get the job done . Taking a few swigs made it childishly easy to ignore that gigantic black cloud of fog blotting out whatever the hell he did before he woke up . \n",
      " There was a mirror in the room and for want of anything more interesting to study he gazed at himself . It was a game he 'd play with himself , glancing at the mirror and seeing if he could recognize the person looking back . If he did n't know better he 'd have guessed he was a very successful mattress salesman , or perhaps a bum who had managed to score some luck gambling . \n",
      " His face was portly and unshaven , in that limbo place where it had been too many days without being clean and too few days to become a beard . His stomach was round but firm , like a basketball stuffed under a shirt and then semi deflated . The hair was long and unruly , receding far into the past . But his eyes were the giveaway . Looking closely enough at them he could still see an intensity . It was n't the sharp kind he carried in his youth but rather like a rusted dagger . Still sharp enough to cut . \n",
      " `` DiCaprio . '' The curse rasped out of him in a choke . After all these years spent working on the hallmark channel and tv series based on mediocre movies he was still there . Despite his best efforts to bury himself under all of the alchol and drugs he was still in there . He thought for sure after the bankruptcy he 'd be done , but no that god damned rerelease of Titanic the royalties started pouring in and he could n't get rid of the money . Not even the live action version of the nut job could destroy him . \n",
      " Cursing he hurled the bottle at the mirror but his wet hands slipped and instead of a shattering crash there was only a thud as the bottle bounced off the dry wall and rolled on the floor . \n",
      " His rage thwarted by his impotence he slumped against the floor and finally noticed why there was rain coming into this room . \n",
      " \n",
      " The window was smashed . He looked at the bottle , confused . No , he had n't done that . At least not with the vodka . He looked back at the glass etched around the window sill and his eyes hung on the red that stained the jagged teeth . \n",
      " \n",
      " The headache crept back towards the front of his mind while the bloody glass pinned his eyes in place . What the fuck happened last night ?<EOT>\n"
     ]
    }
   ],
   "source": [
    "# Convert <newline> to \\n\n",
    "data_list = [x.replace(\"<newline>\", \"\\n\") for x in data_list]\n",
    "# Append </BOT> and <EOT> to all the lines\n",
    "data_list = [\"</BOT>\" + x + \"<EOT>\" for x in data_list]\n",
    "print(data_list[0])"
   ]
  },
  {
   "cell_type": "code",
   "execution_count": 5,
   "metadata": {},
   "outputs": [
    {
     "name": "stdout",
     "output_type": "stream",
     "text": [
      "Size of data_corpus:9777952\n",
      "Data_corpus:['</BOT>The', 'wet', 'marble', 'floor', 'pressed', 'on', 'his', 'cheek', 'like', 'a', 'thousand', 'hands', 'slapping', 'his', 'face', 'frozen', 'in', 'time', '.', 'Smattering', 'piss', 'of', 'rain', 'ignored', 'his', 'indignant', 'mumblings', '.', 'His', 'eyes', 'fluttered', '.', 'Pins', 'and', 'needs', 'ran', 'from', 'finger', 'to', 'shoulder', 'as', 'he', 'pushed', 'back', 'against', 'the', 'floor', ',', 'contorting', 'his', 'aching', 'body', 'into', 'a', 'cross', 'legged', 'position', '.', 'Last', 'night', 'was', 'bad', '.', 'He', 'gathered', 'that', '.', 'His', 'routine', 'dullness', 'of', 'though', 'crept', 'inwards', 'from', 'the', 'edges', 'of', 'his', 'mind', 'toward', 'the', 'black', 'mist', 'that', 'veiled', 'his', 'most', 'recent', 'memories', '.', 'He', 'struggled', 'to', 'recall', 'whatever', 'he', 'could', \"n't\", 'recall']\n"
     ]
    }
   ],
   "source": [
    "# Split the data into word corpus for BPE procesing\n",
    "data_corpus = [word for line in data_list for word in line.split()]\n",
    "print(f\"Size of data_corpus:{len(data_corpus)}\")\n",
    "print(f\"Data_corpus:{data_corpus[:100]}\")"
   ]
  },
  {
   "cell_type": "code",
   "execution_count": 6,
   "metadata": {},
   "outputs": [],
   "source": [
    "# Initialize the vocabulary\n",
    "special_tokens = {\n",
    "    '</BOT>': 0,\n",
    "    '</EOT>': 1\n",
    "}\n",
    "inv_special_tokens = { v:k for k,v in special_tokens.items() }\n",
    "token_map = {}\n",
    "token_map.update(special_tokens)\n",
    "inv_token_map = {}\n",
    "inv_token_map.update(inv_special_tokens)\n",
    "bpe_codes = {}"
   ]
  },
  {
   "cell_type": "code",
   "execution_count": 7,
   "metadata": {},
   "outputs": [],
   "source": [
    "# word splitting and counting\n",
    "vocab = { '</BOT>' : 0, '</EOT>' : 1 }\n",
    "for word in data_corpus:\n",
    "    if word in special_tokens.keys():\n",
    "        continue\n",
    "    chars = list(word) + ['</w>']\n",
    "    word_tuple = tuple(chars)\n",
    "    vocab[word_tuple] = vocab.get(word_tuple, 0) + 1"
   ]
  },
  {
   "cell_type": "code",
   "execution_count": 8,
   "metadata": {},
   "outputs": [],
   "source": [
    "# Collect unique symbols\n",
    "symbols = set()\n",
    "for word_tuple in vocab:\n",
    "    symbols.update(word_tuple)"
   ]
  },
  {
   "cell_type": "code",
   "execution_count": 9,
   "metadata": {},
   "outputs": [
    {
     "name": "stdout",
     "output_type": "stream",
     "text": [
      "{'ö', 'Ｔ', '为', ';', 'к', 'ग', '’', 'ř', '角', 'र', '¯', 'ل', '¿', 'स', 'å', '̎', 'ｗ', '>', 'ג', 'l', '‘', 'Ï', '̷', '̪', '상', '̽', 'î', 'Δ', 'Ð', 'T', 'ờ', 'V', 'ͦ', 'د', 'ִ', 'a', 'M', '*', '̶', 'ف', '万', '̥', '∴', '－', '̨', 'F', '̤', ']', 'G', 'Î', 'À', 'ي', '용', 'ō', '̂', 'פ', '》', '-', 'p', 't', ')', 'Ԩ', 'غ', 'ק', '̊', '💦', '%', 'ͧ', '8', 'ఠ', 'е', '−', 'ù', 'x', '֏', '̉', 'े', 'Ｌ', 'な', '⬆', 'ह', '_', '么', '̚', 'β', 'آ', '̖', 'Y', 'μ', '😩', '̇', '÷', 'Ｘ', '̝', 'ლ', 'Ａ', '°', 'í', 'ث', '͛', 'ड', 'Q', 'α', '͝', '̸', 'ח', 'כ', '1', 'à', '🤔', '̵', 'Ü', '̈́', 'R', '̮', '̳', 'H', '̓', '的', '☹', '«', '𝘑', '͂', 'þ', '̘', '毛', 'а', '§', 'r', 'Ｙ', 'ك', 'й', '0', 'ソ', 'н', '̺', 'ी', '͟', 'ç', 'Ｃ', 'ñ', '{', '𝘴', 'ø', 'л', '͈', 'v', '‽', 'ô', '9', '̴', '💯', '</w>', '\\\\', 'ج', 'J', '¾', 'ط', '̭', 'у', 'E', 'ͩ', '7', '͇', 'ּ', 'ן', '̔', 'é', 'º', 'Ｇ', '《', 'Ś', '̜', '生', 'e', '3', '͗', 'т', 'э', 'ă', '»', '₴', '̼', 'ï', 'ã', '\\u200b', 'u', 'ब', 'ȩ', '厦', 'ז', '†', '♦', '͎', '村', 'ى', 'ͭ', 'ָ', 'ǎ', 'Ｄ', ',', 'ー', 'Ｖ', 'U', 'Ｂ', '(', '्', 'ν', 'ύ', 'I', 'Ε', '把', '̿', '¬', 'ԋ', '҉', 'о', '̌', 'く', '…', '̱', 'X', '훈', 'ͮ', '̏', 'Ò', 'ͣ', '̦', '∆', 'N', 'æ', 'ד', 'ज', '͞', '♪', '𝘣', 'צ', '|', 'Վ', '\\ufeff', 'प', 'д', 'W', 'Ì', '█', '̕', 'ț', '͙', '마', 'ǫ', 'מ', '͋', 'Д', '½', '𝘰', 'Ｅ', '까', 'न', 'क', 'أ', '⭐', 'ü', 'ש', 'ì', 'ó', '͖', '\\x7f', '𝘦', '新', '☺', 'È', 'ė', 'Ç', 'ذ', 'Ѯ', 'г', 'Ｆ', '͚', '落', 'ר', '★', '景', 'ê', '<', '`', '&', 'ド', 'ư', '$', '̈', 'ä', 'P', '!', '´', '😭', '͓', '♫', '̆', 'S', '”', 'Ｗ', 'Á', 'Ｈ', '‚', '/', '®', '东', '͔', '𝘨', '͍', '͉', 'D', 'Ｐ', 'σ', '\\xad', '̞', 'с', '–', '₰', '̙', 'ء', '什', 'נ', 'ク', 'Ռ', '̀', '~', 'א', 'さ', '̯', 'ą', '̗', 'я', 'ơ', '입', '̐', 'i', 'ו', '̡', '̃', 'ḅ', 'ň', 'ļ', '⌐', 'ͫ', '¡', 'थ', 'c', 'ツ', 'Т', '͘', 'إ', 'ο', 'п', '—', 'Г', '은', 'ð', '©', 'ि', '}', 'ｏ', 'و', '얼', 'め', 'Ļ', 'ش', 'Ｕ', '先', '£', 'ā', 'ב', '̲', 'Α', 'o', '．', 'm', 'ん', 'κ', 'ͤ', 'ᵯ', '𝘸', '̬', '×', 'ゎ', '̧', '️', 'ं', 'ò', '́', 'ס', '☆', '비', 'म', '͕', '𝘶', 'â', '̛', 'û', 'Ｓ', 'ַ', '̩', 'Ｉ', '瑞', \"'\", 'A', '͠', 'ţ', '√', '岁', 'ы', '?', 'ة', 'и', 'パ', 'Ä', '❢', 'ن', 'ế', '■', '̻', '김', 'ح', 'ß', 'L', '𝘯', 'आ', 'w', 'ū', '♬', 'k', '🔥', 'ظ', 'ु', 'q', '͊', '̢', '͏', '͡', '^', 'в', 'ख', 'h', 'ワ', '❦', '✔', '،', 'z', '•', 'Ｒ', 'f', 'ć', '请', '€', 'ժ', 'ś', 'ͨ', '𝘩', '́', 'ب', 'C', 'ر', 's', '5', 'ͪ', '◇', '̾', 'B', 'ͥ', '+', '͆', 'ز', 'ж', 'ץ', 'ल', 'g', '[', 'भ', 'ך', '2', 'Å', '有', 'س', 'б', 'ע', '͒', 'Z', '̅', 'ͬ', '“', '😂', 'ם', '\\uf04a', '™', 'ט', '4', 'ै', '泽', 'n', '@', 'Β', '̠', '̹', 'م', 'ь', 'ת', '.', 'b', 'ş', 'Ｎ', 'Ｏ', '̒', 'ص', 'ا', 'ל', 'ë', '̫', 'ه', '„', 'ḑ', '𝘵', '͐', '#', 'י', '门', 'ق', 'ت', 'ض', '̟', 'ͅ', 'Þ', '郎', '6', 'K', 'É', 'O', 'ئ', 'ķ', '͜', '❤', '屎', 'м', '̀', '𝘥', '𝘢', 'á', 'ę', 'Ó', 'ń', ':', '̄', '̰', 'ಠ', 'π', 'व', 'Ω', '野', 'ł', 'j', 'ς', '²', 'ē', '니', 'Ｍ', '͌', '̋', 'Ѫ', 'è', '＂', 'ε', 'ה', '̣', '✨', 'd', '͢', 'ع', 'ो', '\\u200e', 'य', 'ú', 'ス', 'y', '̓', '̍', 'ा', 'р', '̑', 'ч', '″', '=', 'Æ', 'خ', '👌', 'Γ', '⇔'}\n"
     ]
    }
   ],
   "source": [
    "# Check the symbols\n",
    "# There are many non-english symbols\n",
    "print(symbols)"
   ]
  },
  {
   "cell_type": "code",
   "execution_count": 10,
   "metadata": {},
   "outputs": [
    {
     "name": "stdout",
     "output_type": "stream",
     "text": [
      "<class 'dict'>\n"
     ]
    }
   ],
   "source": [
    "token_id = 2 # 0,1 are reserved for special tokens. \n",
    "print(type(token_map))\n",
    "# If we wanted to do this dynamically we can do token_id = len(special_tokens)\n",
    "for symbol in symbols:\n",
    "    if symbol not in token_map:\n",
    "        token_map[symbol] = token_id\n",
    "        inv_token_map[token_id] = symbol\n",
    "        token_id += 1"
   ]
  },
  {
   "cell_type": "code",
   "execution_count": 11,
   "metadata": {},
   "outputs": [],
   "source": [
    "inv_map = {v: k for k, v in token_map.items()}"
   ]
  },
  {
   "cell_type": "code",
   "execution_count": 12,
   "metadata": {},
   "outputs": [
    {
     "name": "stdout",
     "output_type": "stream",
     "text": [
      "dict_keys(['</BOT>', '</EOT>', 'ö', 'Ｔ', '为', ';', 'к', 'ग', '’', 'ř', '角', 'र', '¯', 'ل', '¿', 'स', 'å', '̎', 'ｗ', '>', 'ג', 'l', '‘', 'Ï', '̷', '̪', '상', '̽', 'î', 'Δ', 'Ð', 'T', 'ờ', 'V', 'ͦ', 'د', 'ִ', 'a', 'M', '*', '̶', 'ف', '万', '̥', '∴', '－', '̨', 'F', '̤', ']', 'G', 'Î', 'À', 'ي', '용', 'ō', '̂', 'פ', '》', '-', 'p', 't', ')', 'Ԩ', 'غ', 'ק', '̊', '💦', '%', 'ͧ', '8', 'ఠ', 'е', '−', 'ù', 'x', '֏', '̉', 'े', 'Ｌ', 'な', '⬆', 'ह', '_', '么', '̚', 'β', 'آ', '̖', 'Y', 'μ', '😩', '̇', '÷', 'Ｘ', '̝', 'ლ', 'Ａ', '°', 'í', 'ث', '͛', 'ड', 'Q', 'α', '͝', '̸', 'ח', 'כ', '1', 'à', '🤔', '̵', 'Ü', '̈́', 'R', '̮', '̳', 'H', '̓', '的', '☹', '«', '𝘑', '͂', 'þ', '̘', '毛', 'а', '§', 'r', 'Ｙ', 'ك', 'й', '0', 'ソ', 'н', '̺', 'ी', '͟', 'ç', 'Ｃ', 'ñ', '{', '𝘴', 'ø', 'л', '͈', 'v', '‽', 'ô', '9', '̴', '💯', '</w>', '\\\\', 'ج', 'J', '¾', 'ط', '̭', 'у', 'E', 'ͩ', '7', '͇', 'ּ', 'ן', '̔', 'é', 'º', 'Ｇ', '《', 'Ś', '̜', '生', 'e', '3', '͗', 'т', 'э', 'ă', '»', '₴', '̼', 'ï', 'ã', '\\u200b', 'u', 'ब', 'ȩ', '厦', 'ז', '†', '♦', '͎', '村', 'ى', 'ͭ', 'ָ', 'ǎ', 'Ｄ', ',', 'ー', 'Ｖ', 'U', 'Ｂ', '(', '्', 'ν', 'ύ', 'I', 'Ε', '把', '̿', '¬', 'ԋ', '҉', 'о', '̌', 'く', '…', '̱', 'X', '훈', 'ͮ', '̏', 'Ò', 'ͣ', '̦', '∆', 'N', 'æ', 'ד', 'ज', '͞', '♪', '𝘣', 'צ', '|', 'Վ', '\\ufeff', 'प', 'д', 'W', 'Ì', '█', '̕', 'ț', '͙', '마', 'ǫ', 'מ', '͋', 'Д', '½', '𝘰', 'Ｅ', '까', 'न', 'क', 'أ', '⭐', 'ü', 'ש', 'ì', 'ó', '͖', '\\x7f', '𝘦', '新', '☺', 'È', 'ė', 'Ç', 'ذ', 'Ѯ', 'г', 'Ｆ', '͚', '落', 'ר', '★', '景', 'ê', '<', '`', '&', 'ド', 'ư', '$', '̈', 'ä', 'P', '!', '´', '😭', '͓', '♫', '̆', 'S', '”', 'Ｗ', 'Á', 'Ｈ', '‚', '/', '®', '东', '͔', '𝘨', '͍', '͉', 'D', 'Ｐ', 'σ', '\\xad', '̞', 'с', '–', '₰', '̙', 'ء', '什', 'נ', 'ク', 'Ռ', '̀', '~', 'א', 'さ', '̯', 'ą', '̗', 'я', 'ơ', '입', '̐', 'i', 'ו', '̡', '̃', 'ḅ', 'ň', 'ļ', '⌐', 'ͫ', '¡', 'थ', 'c', 'ツ', 'Т', '͘', 'إ', 'ο', 'п', '—', 'Г', '은', 'ð', '©', 'ि', '}', 'ｏ', 'و', '얼', 'め', 'Ļ', 'ش', 'Ｕ', '先', '£', 'ā', 'ב', '̲', 'Α', 'o', '．', 'm', 'ん', 'κ', 'ͤ', 'ᵯ', '𝘸', '̬', '×', 'ゎ', '̧', '️', 'ं', 'ò', '́', 'ס', '☆', '비', 'म', '͕', '𝘶', 'â', '̛', 'û', 'Ｓ', 'ַ', '̩', 'Ｉ', '瑞', \"'\", 'A', '͠', 'ţ', '√', '岁', 'ы', '?', 'ة', 'и', 'パ', 'Ä', '❢', 'ن', 'ế', '■', '̻', '김', 'ح', 'ß', 'L', '𝘯', 'आ', 'w', 'ū', '♬', 'k', '🔥', 'ظ', 'ु', 'q', '͊', '̢', '͏', '͡', '^', 'в', 'ख', 'h', 'ワ', '❦', '✔', '،', 'z', '•', 'Ｒ', 'f', 'ć', '请', '€', 'ժ', 'ś', 'ͨ', '𝘩', '́', 'ب', 'C', 'ر', 's', '5', 'ͪ', '◇', '̾', 'B', 'ͥ', '+', '͆', 'ز', 'ж', 'ץ', 'ल', 'g', '[', 'भ', 'ך', '2', 'Å', '有', 'س', 'б', 'ע', '͒', 'Z', '̅', 'ͬ', '“', '😂', 'ם', '\\uf04a', '™', 'ט', '4', 'ै', '泽', 'n', '@', 'Β', '̠', '̹', 'م', 'ь', 'ת', '.', 'b', 'ş', 'Ｎ', 'Ｏ', '̒', 'ص', 'ا', 'ל', 'ë', '̫', 'ه', '„', 'ḑ', '𝘵', '͐', '#', 'י', '门', 'ق', 'ت', 'ض', '̟', 'ͅ', 'Þ', '郎', '6', 'K', 'É', 'O', 'ئ', 'ķ', '͜', '❤', '屎', 'м', '̀', '𝘥', '𝘢', 'á', 'ę', 'Ó', 'ń', ':', '̄', '̰', 'ಠ', 'π', 'व', 'Ω', '野', 'ł', 'j', 'ς', '²', 'ē', '니', 'Ｍ', '͌', '̋', 'Ѫ', 'è', '＂', 'ε', 'ה', '̣', '✨', 'd', '͢', 'ع', 'ो', '\\u200e', 'य', 'ú', 'ス', 'y', '̓', '̍', 'ा', 'р', '̑', 'ч', '″', '=', 'Æ', 'خ', '👌', 'Γ', '⇔'])\n",
      "dict_keys([0, 1, 2, 3, 4, 5, 6, 7, 8, 9, 10, 11, 12, 13, 14, 15, 16, 17, 18, 19, 20, 21, 22, 23, 24, 25, 26, 27, 28, 29, 30, 31, 32, 33, 34, 35, 36, 37, 38, 39, 40, 41, 42, 43, 44, 45, 46, 47, 48, 49, 50, 51, 52, 53, 54, 55, 56, 57, 58, 59, 60, 61, 62, 63, 64, 65, 66, 67, 68, 69, 70, 71, 72, 73, 74, 75, 76, 77, 78, 79, 80, 81, 82, 83, 84, 85, 86, 87, 88, 89, 90, 91, 92, 93, 94, 95, 96, 97, 98, 99, 100, 101, 102, 103, 104, 105, 106, 107, 108, 109, 110, 111, 112, 113, 114, 115, 116, 117, 118, 119, 120, 121, 122, 123, 124, 125, 126, 127, 128, 129, 130, 131, 132, 133, 134, 135, 136, 137, 138, 139, 140, 141, 142, 143, 144, 145, 146, 147, 148, 149, 150, 151, 152, 153, 154, 155, 156, 157, 158, 159, 160, 161, 162, 163, 164, 165, 166, 167, 168, 169, 170, 171, 172, 173, 174, 175, 176, 177, 178, 179, 180, 181, 182, 183, 184, 185, 186, 187, 188, 189, 190, 191, 192, 193, 194, 195, 196, 197, 198, 199, 200, 201, 202, 203, 204, 205, 206, 207, 208, 209, 210, 211, 212, 213, 214, 215, 216, 217, 218, 219, 220, 221, 222, 223, 224, 225, 226, 227, 228, 229, 230, 231, 232, 233, 234, 235, 236, 237, 238, 239, 240, 241, 242, 243, 244, 245, 246, 247, 248, 249, 250, 251, 252, 253, 254, 255, 256, 257, 258, 259, 260, 261, 262, 263, 264, 265, 266, 267, 268, 269, 270, 271, 272, 273, 274, 275, 276, 277, 278, 279, 280, 281, 282, 283, 284, 285, 286, 287, 288, 289, 290, 291, 292, 293, 294, 295, 296, 297, 298, 299, 300, 301, 302, 303, 304, 305, 306, 307, 308, 309, 310, 311, 312, 313, 314, 315, 316, 317, 318, 319, 320, 321, 322, 323, 324, 325, 326, 327, 328, 329, 330, 331, 332, 333, 334, 335, 336, 337, 338, 339, 340, 341, 342, 343, 344, 345, 346, 347, 348, 349, 350, 351, 352, 353, 354, 355, 356, 357, 358, 359, 360, 361, 362, 363, 364, 365, 366, 367, 368, 369, 370, 371, 372, 373, 374, 375, 376, 377, 378, 379, 380, 381, 382, 383, 384, 385, 386, 387, 388, 389, 390, 391, 392, 393, 394, 395, 396, 397, 398, 399, 400, 401, 402, 403, 404, 405, 406, 407, 408, 409, 410, 411, 412, 413, 414, 415, 416, 417, 418, 419, 420, 421, 422, 423, 424, 425, 426, 427, 428, 429, 430, 431, 432, 433, 434, 435, 436, 437, 438, 439, 440, 441, 442, 443, 444, 445, 446, 447, 448, 449, 450, 451, 452, 453, 454, 455, 456, 457, 458, 459, 460, 461, 462, 463, 464, 465, 466, 467, 468, 469, 470, 471, 472, 473, 474, 475, 476, 477, 478, 479, 480, 481, 482, 483, 484, 485, 486, 487, 488, 489, 490, 491, 492, 493, 494, 495, 496, 497, 498, 499, 500, 501, 502, 503, 504, 505, 506, 507, 508, 509, 510, 511, 512, 513, 514, 515, 516, 517, 518, 519, 520, 521, 522, 523, 524, 525, 526, 527, 528, 529, 530, 531, 532, 533, 534, 535, 536, 537, 538, 539, 540, 541, 542, 543, 544, 545, 546, 547, 548, 549, 550, 551, 552, 553, 554, 555, 556, 557, 558, 559, 560, 561, 562, 563, 564, 565, 566, 567, 568, 569, 570, 571, 572, 573, 574, 575, 576, 577, 578, 579, 580, 581, 582, 583, 584, 585, 586, 587, 588, 589, 590, 591, 592, 593, 594, 595, 596])\n"
     ]
    }
   ],
   "source": [
    "print(token_map.keys())\n",
    "print(inv_token_map.keys())"
   ]
  },
  {
   "cell_type": "code",
   "execution_count": 13,
   "metadata": {},
   "outputs": [],
   "source": [
    "# get_pair_counts function\n",
    "def get_pair_counts(vocab: dict[tuple[str], int]) -> dict[tuple[str, str], int]:\n",
    "    \"\"\"\n",
    "    Count the frequency of each pair of symbols in the vocabulary\n",
    "    by iterating over all words in the vocabulary and counting\n",
    "    \"\"\"\n",
    "    pairs = {}\n",
    "    for word, freq in vocab.items():\n",
    "        symbols = word\n",
    "        for i in range(len(symbols)-1): # There's no pair for last symbol\n",
    "            pair = (symbols[i], symbols[i+1])\n",
    "            pairs[pair] = pairs.get(pair, 0) + freq\n",
    "    return pairs"
   ]
  },
  {
   "cell_type": "code",
   "execution_count": 14,
   "metadata": {},
   "outputs": [],
   "source": [
    "# merge_vocab function\n",
    "from multiprocessing import Pool\n",
    "def merge_vocab_primitive(pair: tuple[str, str], vocab:dict[tuple[str], int]) -> dict[tuple[str], int]:\n",
    "    \"\"\"\n",
    "    Merge the most frequent pair in the vocabulary\n",
    "    This is primitive version of merge_vocab using single thread\n",
    "    to demonstrate algorithm\n",
    "    \"\"\"\n",
    "    new_vocab = {}\n",
    "    bigram = ''.join(pair) # join two symbols to create a bigram\n",
    "    for word, freq in vocab.items():\n",
    "        w = []\n",
    "        i = 0\n",
    "        while i < len(word)-1: # Reason for wile loop is inconsistent index combing\n",
    "            # Merge pair if found\n",
    "            if i < len(word) - 1 and word[i] == pair[0] and word[i+1] == pair[1]:\n",
    "                w.append(bigram)\n",
    "            else:\n",
    "                w.append(word[i])\n",
    "                i += 1\n",
    "        new_vocab[tuple(w)] = freq\n",
    "    return new_vocab\n",
    "\n",
    "def process_word(args):\n",
    "    pair, word_freq = args\n",
    "    word, freq = word_freq\n",
    "    bigram = ''.join(pair)\n",
    "    w = []\n",
    "    i = 0\n",
    "    while i < len(word):\n",
    "        if i < len(word) - 1 and word[i] == pair[0] and word[i + 1] == pair[1]:\n",
    "            w.append(bigram)\n",
    "            i += 2\n",
    "        else:\n",
    "            w.append(word[i])\n",
    "            i += 1\n",
    "    return tuple(w), freq\n",
    "\n",
    "def merge_vocab(pair: tuple[str, str], vocab:dict[tuple[str], int]) -> dict[tuple[str], int]:\n",
    "    \"\"\"\n",
    "    Parallel merge of all occurrences of the given pair in the vocabulary using multiprocessing.\n",
    "    GLI is disabled in python3.13rc, but current version is python3.12, hence \n",
    "    concurrent.future is near equivalent to single-threaded version\n",
    "    \"\"\"\n",
    "    with Pool() as pool:\n",
    "        results = pool.map(process_word, [(pair, item) for item in vocab.items()])\n",
    "\n",
    "    new_vocab = {word: freq for word, freq in results}\n",
    "    return new_vocab\n"
   ]
  },
  {
   "cell_type": "code",
   "execution_count": 15,
   "metadata": {},
   "outputs": [
    {
     "name": "stderr",
     "output_type": "stream",
     "text": [
      "100%|██████████| 1000/1000 [19:59<00:00,  1.20s/it]\n"
     ]
    }
   ],
   "source": [
    "# BPE Merges\n",
    "num_merges = 1000\n",
    "bpe_codes = {}\n",
    "for i in tqdm(range(num_merges)):\n",
    "    pairs = get_pair_counts(vocab)\n",
    "    # print(f\"Best pair:{max(pairs, key=pairs.get)}\")\n",
    "    # print(f\"BPE Codes:{bpe_codes}\")\n",
    "    if not pairs:\n",
    "        break\n",
    "    best_pair = max(pairs, key=pairs.get)\n",
    "    vocab = merge_vocab(best_pair, vocab)\n",
    "    bpe_codes[best_pair] = i\n",
    "    new_symbol = ''.join(best_pair)\n",
    "    if new_symbol not in token_map:\n",
    "        token_map[new_symbol] = token_id\n",
    "        inv_token_map[token_id] = new_symbol\n",
    "        token_id += 1\n",
    "    "
   ]
  },
  {
   "cell_type": "code",
   "execution_count": 16,
   "metadata": {},
   "outputs": [],
   "source": [
    "# Save the BPE code, token map to observe the result\n",
    "import json\n",
    "with open('bpe_codes.json', 'w') as file:\n",
    "    json.dump({f\"[{' , '.join(word)}]\" :code for word, code in bpe_codes}, \n",
    "              file,\n",
    "              indent=4,\n",
    "              ensure_ascii=False)\n",
    "\n",
    "with open('token_map.json', 'w') as file:\n",
    "    json.dump(token_map, file, indent=4, ensure_ascii=False)"
   ]
  },
  {
   "cell_type": "code",
   "execution_count": 17,
   "metadata": {},
   "outputs": [
    {
     "name": "stdout",
     "output_type": "stream",
     "text": [
      "</BOT>The wet marble floor pressed on his cheek like a thousand hands slapping his face frozen in time . Smattering piss of rain ignored his indignant mumblings . His eyes fluttered . Pins and needs ran from finger to shoulder as he pushed back against the floor , contorting his aching body into a cross legged position . Last night was bad . He gathered that . His routine dullness of though crept inwards from the edges of his mind toward the black mist that veiled his most recent memories . He struggled to recall whatever he could n't recall but only for a moment before he decided it probably was n't worth the effort . \n",
      " He glanced around the room for a few minutes before concluding that he probably did n't know where he was . His investigation was n't entirely fruitless , he discovered a mostly full bottle of vodka . It was cheap but would definitely get the job done . Taking a few swigs made it childishly easy to ignore that gigantic black cloud of fog blotting out whatever the hell he did before he woke up . \n",
      " There was a mirror in the room and for want of anything more interesting to study he gazed at himself . It was a game he 'd play with himself , glancing at the mirror and seeing if he could recognize the person looking back . If he did n't know better he 'd have guessed he was a very successful mattress salesman , or perhaps a bum who had managed to score some luck gambling . \n",
      " His face was portly and unshaven , in that limbo place where it had been too many days without being clean and too few days to become a beard . His stomach was round but firm , like a basketball stuffed under a shirt and then semi deflated . The hair was long and unruly , receding far into the past . But his eyes were the giveaway . Looking closely enough at them he could still see an intensity . It was n't the sharp kind he carried in his youth but rather like a rusted dagger . Still sharp enough to cut . \n",
      " `` DiCaprio . '' The curse rasped out of him in a choke . After all these years spent working on the hallmark channel and tv series based on mediocre movies he was still there . Despite his best efforts to bury himself under all of the alchol and drugs he was still in there . He thought for sure after the bankruptcy he 'd be done , but no that god damned rerelease of Titanic the royalties started pouring in and he could n't get rid of the money . Not even the live action version of the nut job could destroy him . \n",
      " Cursing he hurled the bottle at the mirror but his wet hands slipped and instead of a shattering crash there was only a thud as the bottle bounced off the dry wall and rolled on the floor . \n",
      " His rage thwarted by his impotence he slumped against the floor and finally noticed why there was rain coming into this room . \n",
      " \n",
      " The window was smashed . He looked at the bottle , confused . No , he had n't done that . At least not with the vodka . He looked back at the glass etched around the window sill and his eyes hung on the red that stained the jagged teeth . \n",
      " \n",
      " The headache crept back towards the front of his mind while the bloody glass pinned his eyes in place . What the fuck happened last night ?<EOT>\n"
     ]
    }
   ],
   "source": [
    "# Encoding a sample sentence using BPE\n",
    "sentence = data_list[0]\n",
    "print(sentence)"
   ]
  },
  {
   "cell_type": "code",
   "execution_count": 18,
   "metadata": {},
   "outputs": [],
   "source": [
    "def _get_pairs(word: list[str]) -> set[tuple[str, str]]:\n",
    "    \"\"\"\n",
    "    Get all pairs of symbols in a word\n",
    "    \"\"\"\n",
    "    pairs = set()\n",
    "    for i in range(len(word)-1):\n",
    "        pairs.add((word[i], word[i+1]))\n",
    "\n",
    "    return pairs\n",
    "\n",
    "def apply_bpe(word: list[str]) -> list[str]:\n",
    "    \"\"\"\n",
    "    Apply BPE to a list of symbols(a word)\n",
    "    \"\"\"\n",
    "    word = word.copy()\n",
    "    pairs = _get_pairs(word)\n",
    "    while True:\n",
    "        if not pairs:\n",
    "            break\n",
    "        # Find highest priority pair to merge\n",
    "        min_pair = None\n",
    "        min_rank = float('inf')\n",
    "        for pair in pairs:\n",
    "            if pair in bpe_codes and bpe_codes[pair] < min_rank:\n",
    "                min_pair = pair\n",
    "                min_rank = bpe_codes[pair]\n",
    "        \n",
    "        if min_pair is None:\n",
    "            break\n",
    "\n",
    "        # Merge\n",
    "        new_symbol = ''.join(min_pair)\n",
    "        i = 0\n",
    "        while i < len(word) - 1:\n",
    "            if word[i] == min_pair[0] and word[i+1] == min_pair[1]:\n",
    "                word[i:i+2] = [new_symbol]\n",
    "                break\n",
    "            else:\n",
    "                i += 1\n",
    "        pairs = _get_pairs(word)\n",
    "    return word\n",
    "\n",
    "\n",
    "def split_text(text:str) -> list[str]:\n",
    "    \"\"\"\n",
    "    Split the text into BPE tokens\n",
    "    \"\"\"\n",
    "    tokens = []\n",
    "    words = text.strip().split()\n",
    "    for word in words:\n",
    "        chars = list(word) + ['</w>']\n",
    "        bpe_word = apply_bpe(chars)\n",
    "        tokens.extend(bpe_word)\n",
    "    return tokens\n",
    "\n",
    "def encode_text(text:str) -> list[int]:\n",
    "    \"\"\"\n",
    "    Encode the text into token ids\n",
    "    \"\"\"\n",
    "    tokens = split_text(text)\n",
    "    return [token_map[token] for token in tokens]\n",
    "\n",
    "def decode(data: list[int]) -> str:\n",
    "    \"\"\"\n",
    "    Decode the token ids into text\n",
    "    \"\"\"\n",
    "    tokens = [inv_token_map[token] for token in data]\n",
    "    words = []\n",
    "    word = ''\n",
    "    for token in tokens:\n",
    "        if token == '</w>':\n",
    "            words.extend(word)\n",
    "            word = ''\n",
    "        else:\n",
    "            word += token.replace('</w>', '')\n",
    "    \n",
    "    if word:\n",
    "        words.append(word)\n",
    "    \n",
    "    return ''.join(words)"
   ]
  },
  {
   "cell_type": "code",
   "execution_count": 19,
   "metadata": {},
   "outputs": [
    {
     "name": "stdout",
     "output_type": "stream",
     "text": [
      "[0, 694, 429, 729, 1220, 1096, 1541, 912, 1217, 636, 674, 1256, 176, 639, 808, 622, 971, 464, 624, 1271, 464, 705, 1501, 674, 1010, 745, 449, 640, 634, 841, 603, 300, 1233, 860, 615, 1047, 736, 631, 703, 634, 1587, 1524, 611, 674, 602, 685, 477, 500, 870, 888, 847, 21, 999, 603, 1174, 941, 452, 1019, 737, 1034, 603, 293, 1398, 624, 1487, 735, 130, 656, 754, 452, 813, 619, 620, 678, 1289, 904, 693, 630, 937, 1116, 834, 1387, 610, 1541, 607, 1112, 616, 924, 674, 1099, 615, 1144, 828, 622, 349, 1328, 668, 477, 1150, 830, 679, 778, 603, 426, 37, 652, 1216, 646, 509, 815, 603, 732, 972, 601, 1034, 670, 603, 1174, 130, 1279, 943, 1057, 623, 1261, 631, 1189, 1083, 1195, 602, 429, 1140, 754, 610, 176, 575, 477, 641, 631, 674, 1308, 1179, 845, 610, 1443, 749, 652, 670, 1040, 338, 880, 674, 1030, 626, 349, 726, 748, 817, 1384, 603, 732, 1433, 1409, 880, 620, 626, 1590, 429, 635, 61, 960, 630, 801, 711, 626, 1590, 731, 940, 704, 622, 1294, 947, 630, 1473, 837, 647, 858, 1390, 659, 646, 711, 759, 666, 610, 1562, 739, 599, 603, 732, 477, 1244, 1304, 978, 610, 1026, 704, 622, 1145, 1466, 1458, 947, 765, 349, 1019, 851, 670, 630, 858, 1390, 659, 835, 711, 869, 1036, 630, 646, 603, 1174, 602, 1040, 893, 972, 778, 646, 711, 1241, 626, 659, 452, 790, 707, 1129, 607, 630, 1595, 753, 814, 611, 622, 758, 629, 659, 809, 644, 807, 1056, 631, 994, 575, 432, 622, 603, 776, 646, 662, 945, 675, 731, 802, 702, 1014, 707, 1142, 899, 610, 560, 1496, 1463, 603, 31, 37, 768, 622, 1145, 464, 664, 1363, 1075, 647, 662, 982, 685, 678, 659, 176, 803, 605, 620, 1587, 1524, 597, 670, 958, 477, 606, 1566, 1443, 349, 1511, 598, 631, 1164, 613, 509, 716, 1101, 695, 429, 635, 61, 960, 610, 690, 644, 630, 835, 947, 630, 429, 1564, 751, 603, 1102, 646, 622, 378, 681, 130, 655, 634, 610, 1026, 624, 704, 1125, 631, 1321, 881, 1264, 176, 1584, 620, 1137, 857, 630, 972, 1293, 625, 1372, 603, 776, 646, 622, 972, 637, 630, 1046, 1109, 605, 708, 1372, 607, 477, 1244, 349, 615, 625, 610, 378, 681, 130, 655, 624, 1022, 615, 903, 630, 801, 626, 753, 477, 946, 1224, 610, 919, 1043, 1322, 834, 603, 1296, 630, 835, 711, 869, 1465, 630, 1046, 752, 864, 176, 1217, 630, 646, 622, 1162, 760, 349, 915, 961, 1117, 1233, 1475, 736, 464, 658, 1515, 831, 607, 655, 919, 635, 1023, 622, 906, 632, 967, 712, 891, 744, 611, 620, 818, 616, 597, 949, 1019, 855, 972, 847, 1154, 603, 1174, 1010, 646, 60, 616, 935, 624, 697, 1113, 1201, 607, 634, 670, 638, 847, 609, 1272, 1036, 647, 712, 867, 1052, 1306, 1471, 1509, 1176, 1253, 656, 624, 1052, 1145, 1471, 620, 657, 1045, 622, 657, 845, 603, 1174, 629, 687, 1064, 646, 130, 806, 731, 922, 632, 607, 808, 622, 509, 803, 959, 61, 509, 761, 1137, 1050, 611, 1530, 622, 678, 681, 599, 624, 962, 677, 749, 154, 702, 452, 21, 1015, 603, 694, 635, 769, 646, 1088, 624, 697, 790, 659, 607, 626, 915, 851, 1540, 828, 610, 849, 652, 603, 954, 674, 941, 799, 610, 958, 148, 945, 827, 603, 426, 667, 768, 1012, 677, 659, 1245, 625, 850, 630, 801, 1027, 942, 656, 602, 1126, 679, 884, 603, 776, 646, 711, 610, 678, 617, 675, 1521, 630, 1158, 665, 611, 634, 674, 654, 666, 731, 703, 741, 808, 622, 790, 1291, 575, 744, 1108, 603, 300, 643, 644, 678, 617, 675, 1245, 620, 349, 691, 603, 649, 313, 338, 462, 37, 1172, 609, 603, 651, 694, 1388, 686, 703, 723, 611, 695, 631, 787, 634, 622, 1488, 696, 603, 1569, 761, 1316, 1110, 723, 726, 759, 768, 636, 610, 635, 623, 1220, 639, 1237, 689, 714, 624, 61, 148, 154, 1173, 1384, 509, 803, 611, 636, 748, 685, 376, 349, 890, 758, 853, 641, 630, 646, 1027, 862, 603, 313, 176, 723, 1059, 674, 1554, 1562, 739, 747, 620, 1385, 605, 1372, 1530, 761, 631, 610, 658, 1488, 714, 624, 575, 790, 1363, 630, 646, 1027, 634, 862, 603, 732, 1067, 704, 1191, 1105, 610, 509, 606, 432, 790, 60, 61, 349, 605, 630, 1046, 724, 1463, 607, 731, 873, 670, 782, 598, 789, 378, 931, 130, 604, 176, 1527, 631, 31, 707, 606, 1107, 610, 650, 583, 658, 643, 641, 1215, 60, 989, 615, 634, 624, 630, 801, 711, 899, 665, 598, 631, 610, 1042, 1246, 603, 1502, 975, 610, 638, 663, 642, 778, 814, 1278, 631, 610, 500, 691, 560, 1496, 801, 702, 629, 650, 605, 787, 603, 462, 682, 1175, 630, 444, 682, 880, 610, 807, 1056, 625, 610, 378, 681, 130, 655, 731, 674, 429, 729, 1271, 1280, 970, 624, 602, 1054, 815, 631, 622, 1113, 737, 1462, 1371, 944, 862, 646, 940, 622, 601, 188, 598, 693, 610, 807, 1056, 509, 727, 1304, 986, 610, 575, 1011, 627, 644, 624, 650, 929, 636, 610, 1541, 603, 1174, 703, 844, 601, 1236, 766, 848, 674, 1250, 376, 61, 1033, 630, 464, 1019, 824, 611, 1387, 610, 1541, 624, 1514, 699, 1104, 611, 1259, 862, 646, 703, 634, 1478, 828, 738, 1026, 603, 694, 1565, 684, 646, 1198, 1116, 603, 732, 995, 625, 610, 807, 1056, 607, 765, 809, 816, 603, 1091, 607, 630, 712, 711, 1463, 670, 603, 407, 599, 908, 652, 772, 708, 610, 994, 575, 432, 622, 603, 732, 995, 834, 625, 610, 1545, 736, 176, 61, 1128, 978, 610, 1565, 684, 679, 644, 624, 674, 941, 1369, 613, 636, 610, 1134, 670, 1063, 1240, 610, 560, 744, 1150, 764, 176, 666, 603, 694, 690, 1007, 642, 630, 1083, 1195, 834, 1402, 610, 1327, 631, 674, 1308, 1221, 610, 1366, 857, 1545, 736, 60, 602, 931, 674, 941, 634, 1272, 603, 993, 610, 809, 855, 1061, 1080, 1103, 1216, 413, 898]\n"
     ]
    }
   ],
   "source": [
    "tokens = encode_text(sentence)\n",
    "print(tokens)"
   ]
  },
  {
   "cell_type": "code",
   "execution_count": 20,
   "metadata": {},
   "outputs": [
    {
     "name": "stdout",
     "output_type": "stream",
     "text": [
      "</BOT>Thewetmarblefloorpressedonhischeeklikeathousandhandsslappinghisfacefrozenintime.Smatteringpissofrainignoredhisindignantmumblings.Hiseyesfluttered.Pinsandneedsranfromfingertoshoulderashepushedbackagainstthefloor,contortinghisachingbodyintoacrossleggedposition.Lastnightwasbad.Hegatheredthat.Hisroutinedullnessofthoughcreptinwardsfromtheedgesofhismindtowardtheblackmistthatveiledhismostrecentmemories.Hestruggledtorecallwhateverhecouldn'trecallbutonlyforamomentbeforehedecideditprobablywasn'tworththeeffort.Heglancedaroundtheroomforafewminutesbeforeconcludingthatheprobablydidn'tknowwherehewas.Hisinvestigationwasn'tentirelyfruitless,hediscoveredamostlyfullbottleofvodka.Itwascheapbutwoulddefinitelygetthejobdone.Takingafewswigsmadeitchildishlyeasytoignorethatgiganticblackcloudoffogblottingoutwhateverthehellhedidbeforehewokeup.Therewasamirrorintheroomandforwantofanythingmoreinterestingtostudyhegazedathimself.Itwasagamehe'dplaywithhimself,glancingatthemirrorandseeingifhecouldrecognizethepersonlookingback.Ifhedidn'tknowbetterhe'dhaveguessedhewasaverysuccessfulmattresssalesman,orperhapsabumwhohadmanagedtoscoresomeluckgambling.Hisfacewasportlyandunshaven,inthatlimboplacewhereithadbeentoomanydayswithoutbeingcleanandtoofewdaystobecomeabeard.Hisstomachwasroundbutfirm,likeabasketballstuffedunderashirtandthensemideflated.Thehairwaslongandunruly,recedingfarintothepast.Buthiseyeswerethegiveaway.Lookingcloselyenoughatthemhecouldstillseeanintensity.Itwasn'tthesharpkindhecarriedinhisyouthbutratherlikearusteddagger.Stillsharpenoughtocut.``DiCaprio.''Thecurseraspedoutofhiminachoke.Afteralltheseyearsspentworkingonthehallmarkchannelandtvseriesbasedonmediocremovieshewasstillthere.Despitehisbesteffortstoburyhimselfunderallofthealcholanddrugshewasstillinthere.Hethoughtforsureafterthebankruptcyhe'dbedone,butnothatgoddamnedrereleaseofTitanictheroyaltiesstartedpouringinandhecouldn'tgetridofthemoney.Noteventheliveactionversionofthenutjobcoulddestroyhim.Cursinghehurledthebottleatthemirrorbuthiswethandsslippedandinsteadofashatteringcrashtherewasonlyathudasthebottlebouncedoffthedrywallandrolledonthefloor.Hisragethwartedbyhisimpotenceheslumpedagainstthefloorandfinallynoticedwhytherewasraincomingintothisroom.Thewindowwassmashed.Helookedatthebottle,confused.No,hehadn'tdonethat.Atleastnotwiththevodka.Helookedbackattheglassetchedaroundthewindowsillandhiseyeshungontheredthatstainedthejaggedteeth.Theheadachecreptbacktowardsthefrontofhismindwhilethebloodyglasspinnedhiseyesinplace.Whatthefuckhappenedlastnight?<EOT>\n"
     ]
    }
   ],
   "source": [
    "decoded_sentence = decode(tokens)\n",
    "print(decoded_sentence)"
   ]
  }
 ],
 "metadata": {
  "kernelspec": {
   "display_name": "venv",
   "language": "python",
   "name": "python3"
  },
  "language_info": {
   "codemirror_mode": {
    "name": "ipython",
    "version": 3
   },
   "file_extension": ".py",
   "mimetype": "text/x-python",
   "name": "python",
   "nbconvert_exporter": "python",
   "pygments_lexer": "ipython3",
   "version": "3.12.3"
  }
 },
 "nbformat": 4,
 "nbformat_minor": 2
}
